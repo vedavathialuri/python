{
 "cells": [
  {
   "cell_type": "markdown",
   "id": "40e02077",
   "metadata": {},
   "source": [
    "# Data Science Tools and Ecosystem"
   ]
  },
  {
   "cell_type": "markdown",
   "id": "3b6f8fe2",
   "metadata": {},
   "source": [
    "## In this notebook, Data Science Tools and Ecosystem are summarized."
   ]
  },
  {
   "cell_type": "markdown",
   "id": "606937be",
   "metadata": {},
   "source": [
    "# **Objectives**:\n",
    "- Popolar languages for datasciene\n",
    "- Libraries  libraries used by Data Sciencec\n",
    "- tools for datascience\n",
    "- arithmetic expressions in Python\n",
    "## Author\n",
    "Dr. A. Vedavathi\n"
   ]
  },
  {
   "cell_type": "markdown",
   "id": "42da276c",
   "metadata": {},
   "source": [
    "### Some of the popular languages that Data Scientists use are:\n",
    "#### 1.python\n",
    "#### 2.R\n",
    "#### 3. SQL\n",
    "#### 4. Java"
   ]
  },
  {
   "cell_type": "markdown",
   "id": "c0164e59",
   "metadata": {},
   "source": [
    "#### Some of the commonly used libraries used by Data Scientists include:\n",
    "##### 1. Numpy\n",
    "##### 2. Pandas\n",
    "##### 3. Matplotlib\n",
    "##### 4. scipy"
   ]
  },
  {
   "cell_type": "markdown",
   "id": "7c16434f",
   "metadata": {},
   "source": [
    "#### data science tools\n",
    "| tools |\n",
    "|:  :|\n",
    "|jupyter notebooks| \n",
    "|R studio| \n",
    "|Apache spark|\n",
    "|scikit learn |\n"
   ]
  },
  {
   "cell_type": "markdown",
   "id": "3498268a",
   "metadata": {},
   "source": [
    "### Below are a few examples of evaluating arithmetic expressions in Python"
   ]
  },
  {
   "cell_type": "code",
   "execution_count": 1,
   "id": "0996d740",
   "metadata": {},
   "outputs": [
    {
     "data": {
      "text/plain": [
       "17"
      ]
     },
     "execution_count": 1,
     "metadata": {},
     "output_type": "execute_result"
    }
   ],
   "source": [
    "#This a simple arithmetic expression to mutiply then add integers\n",
    "(3*4)+5"
   ]
  },
  {
   "cell_type": "code",
   "execution_count": 2,
   "id": "a61b00a3",
   "metadata": {},
   "outputs": [
    {
     "data": {
      "text/plain": [
       "3.3333333333333335"
      ]
     },
     "execution_count": 2,
     "metadata": {},
     "output_type": "execute_result"
    }
   ],
   "source": [
    "#This will convert 200 minutes to hours by diving by 60\n",
    "min=200\n",
    "Hrs=min/60\n",
    "Hrs"
   ]
  },
  {
   "cell_type": "code",
   "execution_count": null,
   "id": "8ea7d1cd",
   "metadata": {},
   "outputs": [],
   "source": []
  }
 ],
 "metadata": {
  "kernelspec": {
   "display_name": "Python 3 (ipykernel)",
   "language": "python",
   "name": "python3"
  },
  "language_info": {
   "codemirror_mode": {
    "name": "ipython",
    "version": 3
   },
   "file_extension": ".py",
   "mimetype": "text/x-python",
   "name": "python",
   "nbconvert_exporter": "python",
   "pygments_lexer": "ipython3",
   "version": "3.9.13"
  }
 },
 "nbformat": 4,
 "nbformat_minor": 5
}
